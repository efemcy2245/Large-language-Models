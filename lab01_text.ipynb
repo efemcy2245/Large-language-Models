{
 "cells": [
  {
   "cell_type": "markdown",
   "metadata": {},
   "source": [
    "Lab 01: Introduction to Deep Learning Models, and their Training, Fine-Tuning, and Evaluation"
   ]
  },
  {
   "cell_type": "markdown",
   "metadata": {},
   "source": [
    "- basic functionality of PyTorch, focusing on key operations such as data loading, data transformations, and using GPUs for acceleration"
   ]
  },
  {
   "cell_type": "code",
   "execution_count": 1,
   "metadata": {},
   "outputs": [
    {
     "ename": "ModuleNotFoundError",
     "evalue": "No module named 'torchvision'",
     "output_type": "error",
     "traceback": [
      "\u001b[1;31m---------------------------------------------------------------------------\u001b[0m",
      "\u001b[1;31mModuleNotFoundError\u001b[0m                       Traceback (most recent call last)",
      "Cell \u001b[1;32mIn[1], line 8\u001b[0m\n\u001b[0;32m      6\u001b[0m \u001b[38;5;28;01mfrom\u001b[39;00m \u001b[38;5;21;01mtorch\u001b[39;00m\u001b[38;5;21;01m.\u001b[39;00m\u001b[38;5;21;01mutils\u001b[39;00m\u001b[38;5;21;01m.\u001b[39;00m\u001b[38;5;21;01mdata\u001b[39;00m \u001b[38;5;28;01mimport\u001b[39;00m DataLoader, TensorDataset\n\u001b[0;32m      7\u001b[0m \u001b[38;5;28;01mimport\u001b[39;00m \u001b[38;5;21;01mmatplotlib\u001b[39;00m\u001b[38;5;21;01m.\u001b[39;00m\u001b[38;5;21;01mpyplot\u001b[39;00m \u001b[38;5;28;01mas\u001b[39;00m \u001b[38;5;21;01mplt\u001b[39;00m\n\u001b[1;32m----> 8\u001b[0m \u001b[38;5;28;01mimport\u001b[39;00m \u001b[38;5;21;01mtorchvision\u001b[39;00m\n\u001b[0;32m      9\u001b[0m \u001b[38;5;28;01mimport\u001b[39;00m \u001b[38;5;21;01mtorchvision\u001b[39;00m\u001b[38;5;21;01m.\u001b[39;00m\u001b[38;5;21;01mtransforms\u001b[39;00m \u001b[38;5;28;01mas\u001b[39;00m \u001b[38;5;21;01mtransforms\u001b[39;00m\n",
      "\u001b[1;31mModuleNotFoundError\u001b[0m: No module named 'torchvision'"
     ]
    }
   ],
   "source": [
    "# Import necessary libraries\n",
    "import torch\n",
    "import torch.nn as nn\n",
    "import torch.optim as optim\n",
    "import torch.nn.functional as F\n",
    "from torch.utils.data import DataLoader, TensorDataset\n",
    "import matplotlib.pyplot as plt\n",
    "import torchvision\n",
    "import torchvision.transforms as transforms"
   ]
  },
  {
   "cell_type": "markdown",
   "metadata": {},
   "source": [
    "Tensors\n",
    "- Tensors in PyTorch Tensors are the primary data structure in PyTorch. They are similar to NumPy arrays but have added functionality that supports GPU acceleration and automatic differentiation (autograd)\n",
    "\n",
    "Automatic differentiation in PyTorch is a key feature for calculating gradients automatically in tensors"
   ]
  },
  {
   "cell_type": "code",
   "execution_count": 2,
   "metadata": {},
   "outputs": [
    {
     "data": {
      "text/plain": [
       "True"
      ]
     },
     "execution_count": 2,
     "metadata": {},
     "output_type": "execute_result"
    }
   ],
   "source": [
    "torch.cuda.is_available()"
   ]
  },
  {
   "cell_type": "code",
   "execution_count": 5,
   "metadata": {},
   "outputs": [
    {
     "name": "stdout",
     "output_type": "stream",
     "text": [
      "tensor([5., 7., 9.])\n",
      "the tensor shape is torch.Size([3])\n",
      "the tensor type is torch.float32\n"
     ]
    }
   ],
   "source": [
    "a = torch.tensor([ 1.0 , 2.0 , 3.0 ])\n",
    "b = torch.tensor([ 4.0 , 5.0 , 6.0 ])\n",
    "\n",
    "c = a + b     ### addition element-wise\n",
    "print(c) \n",
    "\n",
    "print(f\"the tensor shape is {c.shape}\")\n",
    "print(f\"the tensor type is {c.dtype}\")"
   ]
  },
  {
   "cell_type": "markdown",
   "metadata": {},
   "source": [
    "float32 (single precision) data type. NumPy, instead, defaults to float64 (double precision)"
   ]
  },
  {
   "cell_type": "code",
   "execution_count": 6,
   "metadata": {},
   "outputs": [
    {
     "name": "stdout",
     "output_type": "stream",
     "text": [
      "Time for matrix multiplication (float64): 1.7044s\n",
      "Time for matrix multiplication (float32): 0.7965s\n"
     ]
    }
   ],
   "source": [
    "from timeit import timeit\n",
    "\n",
    "mat_size = 1000\n",
    "\n",
    "M1_64 = torch.randn(mat_size, mat_size, dtype=torch.float64)   ### here we have a tensor of double precision float64\n",
    "M2_64 = torch.randn(mat_size, mat_size, dtype=torch.float64)\n",
    "\n",
    "M1_32 = torch.randn(mat_size, mat_size)                        ### here we have a tensor of single precision float32\n",
    "M2_32 = torch.randn(mat_size, mat_size)\n",
    "\n",
    "t64 = timeit(lambda: M1_64 @ M2_64, number=100)                # we use the lambda function tu compute 100 times matrices product      \n",
    "t32 = timeit(lambda: M1_32 @ M2_32, number=100)\n",
    "\n",
    "print(f\"Time for matrix multiplication (float64): {t64:.4f}s\")\n",
    "print(f\"Time for matrix multiplication (float32): {t32:.4f}s\")"
   ]
  },
  {
   "cell_type": "markdown",
   "metadata": {},
   "source": [
    "if is strictly needed you can change the type of array "
   ]
  },
  {
   "cell_type": "code",
   "execution_count": 6,
   "metadata": {},
   "outputs": [
    {
     "name": "stdout",
     "output_type": "stream",
     "text": [
      "<class 'torch.Tensor'>\n"
     ]
    }
   ],
   "source": [
    "c = c.to(torch.float64) # or,\n",
    "print(type(c)) \n",
    "c = c.double()"
   ]
  },
  {
   "cell_type": "markdown",
   "metadata": {},
   "source": [
    "Exercise 1: A simple neural network\n",
    "\n",
    "-univariate linear model is one of the most basic forms of machine learning models and is defined by the equation y = wx + b\n",
    "\n",
    "Model Definition: SimpleLinearModel\n",
    "The SimpleLinearModel class is a subclass of nn.Module, which is the base class for all neural network modules in PyTorch"
   ]
  },
  {
   "cell_type": "markdown",
   "metadata": {},
   "source": [
    "The SimpleLinearModel class is structured as follows:\n",
    "\n",
    "__init__(self, input_size, output_size):\n",
    "\n",
    "This is the constructor method where the linear layer is defined. The input_size and output_size parameters specify the dimensions of the input and output features, respectively. In this exercise, both the input and output sizes are set to 1, indicating a single feature input and a single prediction output.\n",
    "forward(self, x):\n",
    "\n",
    "This method defines the forward pass of the model, where the input x is passed through the linear layer. The forward pass computes the output by applying the linear transformation described above"
   ]
  },
  {
   "cell_type": "code",
   "execution_count": 7,
   "metadata": {},
   "outputs": [],
   "source": [
    "# Define a simple linear model\n",
    "class SimpleLinearModel(nn.Module):\n",
    "    def __init__(self, input_size, output_size):\n",
    "        super(SimpleLinearModel, self).__init__()\n",
    "        self.linear = nn.Linear(input_size, output_size)\n",
    "    \n",
    "    def forward(self, x):\n",
    "        return self.linear(x)"
   ]
  },
  {
   "cell_type": "code",
   "execution_count": 12,
   "metadata": {},
   "outputs": [
    {
     "name": "stdout",
     "output_type": "stream",
     "text": [
      "SimpleLinearModel(\n",
      "  (linear): Linear(in_features=1, out_features=1, bias=True)\n",
      ")\n"
     ]
    }
   ],
   "source": [
    "# Initialize the model, loss function, and optimizer\n",
    "model = SimpleLinearModel(1, 1)\n",
    "print(model)"
   ]
  },
  {
   "cell_type": "markdown",
   "metadata": {},
   "source": [
    "Using torch.device for GPU Acceleration"
   ]
  },
  {
   "cell_type": "code",
   "execution_count": 13,
   "metadata": {},
   "outputs": [
    {
     "name": "stdout",
     "output_type": "stream",
     "text": [
      "The device is set to: cpu\n"
     ]
    }
   ],
   "source": [
    "device = torch.device(\"cuda\" if torch.cuda.is_available() else \"cpu\")\n",
    "\n",
    "print(f\"The device is set to: {device}\")"
   ]
  },
  {
   "cell_type": "markdown",
   "metadata": {},
   "source": [
    "Finally, note that these tensors have the requires_grad attribute set to True. This attribute is used by PyTorch to determine which tensors should have their gradients computed during the backward pass (i.e., which tensors are learnable parameters). This is used by PyTorch to keep track of the computational graph."
   ]
  },
  {
   "cell_type": "code",
   "execution_count": 14,
   "metadata": {},
   "outputs": [
    {
     "name": "stdout",
     "output_type": "stream",
     "text": [
      "Weight Parameter containing:\n",
      "tensor([[0.6712]], requires_grad=True)\n",
      "Bias Parameter containing:\n",
      "tensor([-0.4391], requires_grad=True)\n"
     ]
    }
   ],
   "source": [
    "print(\"Weight\", model.linear.weight)\n",
    "print(\"Bias\", model.linear.bias)"
   ]
  },
  {
   "cell_type": "markdown",
   "metadata": {},
   "source": [
    "Criterion and Optimizer\n",
    "\n",
    "-The criterion, also known as the loss function, is a measure of how well the model's predictions match the actual target values. During training, the loss function evaluates the difference between the predicted outputs and the true labels, quantifying the error of the model. The goal of training is to minimize this error, thereby improving the model's accuracy.\n",
    "\n",
    "-Cross Entropy: Used for multi-class classification problems, like our CIFAR-10 and CIFAR-100 tasks. We typically use PyTorch's CrossEntropyLoss, which takes as input the predicted logits (not the probabilities, so unnormalized probabilities that have not been passed through a softmax) is applied) and the ground truths. Alternatively, we could combine LogSoftmax and NLLLoss (Negative Log Likelihood Loss) together, or applying the softmax ourselves and then using a Negative Log Likelihood function. However, for numerical reasons, we generally prefer using the CrossEntropyLoss class directly.\n",
    "\n",
    "-Mean Squared Error (MSE): Typically used for regression tasks, where the model predicts continuous values."
   ]
  },
  {
   "cell_type": "markdown",
   "metadata": {},
   "source": [
    "Optimizer\n",
    "The optimizer is an algorithm or method used to adjust the model's weights to minimize the loss function. It updates the model parameters (weights and biases) based on the gradients computed during backpropagation. The optimizer aims to find the optimal set of parameters that reduce the loss, improving the model’s performance on the training data.\n",
    "\n",
    "Some common optimizers include:\n",
    "\n",
    "-Stochastic Gradient Descent (SGD): A basic optimizer that updates the model parameters using a small, randomly selected subset of data (mini-batch) instead of the entire dataset. It’s useful for handling large datasets and reducing computational cost.\n",
    "\n",
    "-Adam: A more advanced optimizer that combines the benefits of two other extensions of SGD, Adaptive Gradient Algorithm (AdaGrad) and Root Mean Square Propagation (RMSProp). It adjusts the learning rate for each parameter dynamically, making it well-suited for complex tasks with sparse gradients."
   ]
  },
  {
   "cell_type": "code",
   "execution_count": 15,
   "metadata": {},
   "outputs": [],
   "source": [
    "# Create a dataset (for simplicity, we use a small synthetic dataset)\n",
    "# X is the input features, y is the target labels\n",
    "\n",
    "n_pts = 2048\n",
    "# TODO: Generate a random dataset containing n_pts samples\n",
    "# Notes:\n",
    "# - The input features X should be a tensor of shape (n_pts, 1)\n",
    "# - you can generate the X's randomly (e.g. using torch.rand to sample uniformly from [0,1], or torch.randn to sample from a normal distribution)\n",
    "# - The target labels y should be a linear function of X with some noise added, y = w*x + b + gaussian noise\n",
    "\n",
    "# In this solution we are using normally distributed inputs. It is \n",
    "# well-known that 0-centered inputs help speed up the learning process.\n",
    "# You can try using uniformly distributed inputs, or adding an offset to\n",
    "# all points and see the difference in learning speed (weight/bias\n",
    "# plots shown afterwards)\n",
    "X = torch.randn(n_pts, 1)      ### shape is [ 2048 , 1 ]\n",
    "y = 5 * X + 3 + 0.1 * torch.randn(n_pts, 1) # adding gaussian noise  ### shape is [ 2048 , 1 ]\n",
    "\n",
    "# Create DataLoader\n",
    "dataset = TensorDataset(X, y)\n",
    "trainloader = DataLoader(dataset, batch_size=256, shuffle=True)"
   ]
  },
  {
   "cell_type": "code",
   "execution_count": 17,
   "metadata": {},
   "outputs": [],
   "source": [
    "criterion = nn.MSELoss()\n",
    "optimizer = optim.SGD(model.parameters(), lr=0.01)"
   ]
  },
  {
   "cell_type": "markdown",
   "metadata": {},
   "source": [
    "Training Loop \n"
   ]
  },
  {
   "cell_type": "code",
   "execution_count": 18,
   "metadata": {},
   "outputs": [
    {
     "name": "stdout",
     "output_type": "stream",
     "text": [
      "Epoch [1/50], Loss: 26.0355\n",
      "Epoch [2/50], Loss: 19.0162\n",
      "Epoch [3/50], Loss: 13.8880\n",
      "Epoch [4/50], Loss: 10.1432\n",
      "Epoch [5/50], Loss: 7.4104\n",
      "Epoch [6/50], Loss: 5.4142\n",
      "Epoch [7/50], Loss: 3.9559\n",
      "Epoch [8/50], Loss: 2.8913\n",
      "Epoch [9/50], Loss: 2.1141\n",
      "Epoch [10/50], Loss: 1.5463\n",
      "Epoch [11/50], Loss: 1.1320\n",
      "Epoch [12/50], Loss: 0.8294\n",
      "Epoch [13/50], Loss: 0.6085\n",
      "Epoch [14/50], Loss: 0.4471\n",
      "Epoch [15/50], Loss: 0.3293\n",
      "Epoch [16/50], Loss: 0.2432\n",
      "Epoch [17/50], Loss: 0.1804\n",
      "Epoch [18/50], Loss: 0.1345\n",
      "Epoch [19/50], Loss: 0.1010\n",
      "Epoch [20/50], Loss: 0.0765\n",
      "Epoch [21/50], Loss: 0.0587\n",
      "Epoch [22/50], Loss: 0.0456\n",
      "Epoch [23/50], Loss: 0.0361\n",
      "Epoch [24/50], Loss: 0.0291\n",
      "Epoch [25/50], Loss: 0.0241\n",
      "Epoch [26/50], Loss: 0.0203\n",
      "Epoch [27/50], Loss: 0.0176\n",
      "Epoch [28/50], Loss: 0.0157\n",
      "Epoch [29/50], Loss: 0.0142\n",
      "Epoch [30/50], Loss: 0.0132\n",
      "Epoch [31/50], Loss: 0.0124\n",
      "Epoch [32/50], Loss: 0.0118\n",
      "Epoch [33/50], Loss: 0.0114\n",
      "Epoch [34/50], Loss: 0.0111\n",
      "Epoch [35/50], Loss: 0.0109\n",
      "Epoch [36/50], Loss: 0.0107\n",
      "Epoch [37/50], Loss: 0.0106\n",
      "Epoch [38/50], Loss: 0.0105\n",
      "Epoch [39/50], Loss: 0.0105\n",
      "Epoch [40/50], Loss: 0.0104\n",
      "Epoch [41/50], Loss: 0.0104\n",
      "Epoch [42/50], Loss: 0.0104\n",
      "Epoch [43/50], Loss: 0.0104\n",
      "Epoch [44/50], Loss: 0.0104\n",
      "Epoch [45/50], Loss: 0.0103\n",
      "Epoch [46/50], Loss: 0.0103\n",
      "Epoch [47/50], Loss: 0.0103\n",
      "Epoch [48/50], Loss: 0.0103\n",
      "Epoch [49/50], Loss: 0.0103\n",
      "Epoch [50/50], Loss: 0.0103\n"
     ]
    }
   ],
   "source": [
    "# Training loop\n",
    "num_epochs = 50\n",
    "\n",
    "# TODO: keep track of the loss computed at each step, \n",
    "# the current value for the weight of the linear layer,\n",
    "# and the current bias value for the linear layer.\n",
    "# Note: store the values in the lists losses, weights, biases\n",
    "losses = []\n",
    "weights = []\n",
    "biases = []\n",
    "\n",
    "model.train()\n",
    "for epoch in range(num_epochs):\n",
    "    running_loss = 0.0\n",
    "    for inputs, labels in trainloader:\n",
    "        inputs, labels = inputs.to(device), labels.to(device)\n",
    "\n",
    "        # Zero the parameter gradients\n",
    "        optimizer.zero_grad()\n",
    "\n",
    "        # Forward pass\n",
    "        outputs = model(inputs)\n",
    "        loss = criterion(outputs, labels)\n",
    "\n",
    "        # Backward pass and optimization\n",
    "        loss.backward()\n",
    "        optimizer.step()\n",
    "\n",
    "        # Save the loss, weight, and bias\n",
    "        losses.append(loss.item())\n",
    "        weights.append(model.linear.weight.item())\n",
    "        biases.append(model.linear.bias.item())\n",
    "\n",
    "        running_loss += loss.item()\n",
    "\n",
    "    print(f\"Epoch [{epoch+1}/{num_epochs}], Loss: {running_loss/len(trainloader):.4f}\")"
   ]
  },
  {
   "cell_type": "code",
   "execution_count": 19,
   "metadata": {},
   "outputs": [
    {
     "data": {
      "image/png": "[encoded data removed]",
      "text/plain": [
       "<Figure size 1500x300 with 3 Axes>"
      ]
     },
     "metadata": {},
     "output_type": "display_data"
    }
   ],
   "source": [
    "fig, ax = plt.subplots(1, 3, figsize=(15, 3))\n",
    "\n",
    "ax[0].plot(losses)\n",
    "ax[0].set_title(\"Loss\")\n",
    "ax[0].set_xlabel(\"Steps\")\n",
    "ax[0].set_ylabel(\"Loss\")\n",
    "ax[0].grid()\n",
    "\n",
    "ax[1].plot(weights)\n",
    "ax[1].set_title(\"Weight\")\n",
    "ax[1].set_xlabel(\"Steps\")\n",
    "ax[1].set_ylabel(\"Weight\")\n",
    "ax[1].grid()\n",
    "\n",
    "ax[2].plot(biases)\n",
    "ax[2].set_title(\"Bias\")\n",
    "ax[2].set_xlabel(\"Steps\")\n",
    "ax[2].set_ylabel(\"Bias\")\n",
    "ax[2].grid()"
   ]
  },
  {
   "cell_type": "code",
   "execution_count": 20,
   "metadata": {},
   "outputs": [
    {
     "name": "stdout",
     "output_type": "stream",
     "text": [
      "Learned weights: tensor([[4.9978]])\n",
      "Learned biases: tensor([2.9996])\n"
     ]
    }
   ],
   "source": [
    "# Inspecting the learned weights and biases\n",
    "weights = model.linear.weight.data\n",
    "biases = model.linear.bias.data\n",
    "\n",
    "print(f'Learned weights: {weights}')\n",
    "print(f'Learned biases: {biases}')"
   ]
  },
  {
   "cell_type": "markdown",
   "metadata": {},
   "source": [
    "Exercise 2: First Model Training"
   ]
  },
  {
   "cell_type": "markdown",
   "metadata": {},
   "source": [
    "you will explore the concept of transfer learning by training a model on the CIFAR-10 dataset and then adapting it to a different dataset, CIFAR-100\n",
    "\n",
    "This approach is especially useful in fields like Natural Language Processing (NLP), where training a model from scratch requires immense computational resources and vast amounts of data. Instead, pre-trained models are often used as backbones, and only the final classification head is fine-tuned for specific tasks."
   ]
  },
  {
   "cell_type": "markdown",
   "metadata": {},
   "source": [
    "The CIFAR-10 and CIFAR-100 datasets are both standard datasets in computer vision. They contain 32x32 color images, but while CIFAR-10 has 10 classes, CIFAR-100 has 100 classes, making it a more challenging task.\n",
    "\n",
    "In this exercise, you will:\n",
    "\n",
    "Train a model from scratch on CIFAR-10 and evaluate its performance.\n",
    "\n",
    "Compare the performance on CIFAR-10 of two models:\n",
    "\n",
    "-The model trained from scratch from point 1.\n",
    "\n",
    "-A model pre-trained on ImageNet (another dataset of images) and then fine-tuned on CIFAR-10.\n",
    "\n",
    "-Modify the classification head to adapt the model for CIFAR-100."
   ]
  },
  {
   "cell_type": "markdown",
   "metadata": {},
   "source": [
    "Loading the CIFAR-10 Dataset and Creating a DataLoader"
   ]
  },
  {
   "cell_type": "markdown",
   "metadata": {},
   "source": [
    "We apply a simple transformation to the images, which start out as PIL images (PIL is a famous Python libraries that handles images), \n",
    "to convert them into PyTorch tensors. We do this using the transforms.ToTensor() transformation."
   ]
  },
  {
   "cell_type": "code",
   "execution_count": null,
   "metadata": {},
   "outputs": [],
   "source": [
    "dataset_dir = \"~/data\" # Change this to the directory where you want to download the dataset\n",
    "# Download CIFAR-10 dataset and apply the transformations\n",
    "trainset = torchvision.datasets.CIFAR10(\n",
    "    root=dataset_dir, train=True, download=True, transform=transforms.ToTensor()\n",
    ")\n",
    "\n",
    "# Create a DataLoader\n",
    "trainloader = torch.utils.data.DataLoader(\n",
    "    trainset, batch_size=64, shuffle=True, num_workers=2\n",
    ")\n",
    "\n",
    "# Get a batch of data to verify that everything is working\n",
    "# dataiter = iter(trainloader)\n",
    "images, labels = next(iter(trainloader)) #dataiter.next()\n",
    "\n",
    "print(f\"Batch of images shape: {images.shape}\")\n",
    "print(f\"Batch of labels shape: {labels.shape}\")\n",
    "print(f\"Possible classes: {', '.join(trainset.classes)}\")"
   ]
  },
  {
   "cell_type": "code",
   "execution_count": null,
   "metadata": {},
   "outputs": [],
   "source": [
    "import matplotlib.pyplot as plt\n",
    "\n",
    "fig, ax = plt.subplots(8,8, figsize=(8,8))\n",
    "plt.rcParams.update({'axes.titlesize': 'small'})\n",
    "plt.tight_layout()\n",
    "# remove vertical space\n",
    "plt.subplots_adjust(hspace=0.25, wspace=0.1)\n",
    "\n",
    "for i in range(8):\n",
    "    for j in range(8):\n",
    "        # note that we need to change the order of the dimensions.\n",
    "        # Torch prepare the images to be (C, H, W),\n",
    "        # But matplotlib expects (H, W, C)\n",
    "        # (H = height of the image, W = width of the image, C = number of color channels)\n",
    "        ax[i,j].imshow(images[i*8 + j].permute(1,2,0))\n",
    "        ax[i,j].set_title(trainset.classes[labels[i*8 + j]])\n",
    "        ax[i,j].axis('off')"
   ]
  },
  {
   "cell_type": "markdown",
   "metadata": {},
   "source": [
    "Data Transformations\n",
    "\n",
    "Transformations involve modifying the inputs (e.g., images) in the dataset to make the model more robust to variations in input data and prevent overfitting\n",
    "\n",
    "It's important to note that the transformations applied to the training data differ from those applied to the validation data\n",
    "\n",
    "Training Transformations\n",
    "\n",
    "Training transformations are designed to augment the dataset, effectively increasing the diversity of the input images seen by the model during training. This helps improve the model's ability to generalize to unseen data. Common training transformations include:\n",
    "\n",
    "Random Crop: Randomly crops a given portion of an image. This helps the model become invariant to the position of objects within the image.\n",
    "\n",
    "Random Horizontal Flip: Randomly flips an image horizontally. This technique ensures that the model learns features regardless of the orientation of objects.\n",
    "\n",
    "Normalization: Adjusts the pixel values to have a mean of 0 and a standard deviation of 1. Normalization helps speed up training and can lead to better model performance.\n",
    "\n",
    "\n"
   ]
  },
  {
   "cell_type": "markdown",
   "metadata": {},
   "source": [
    "Validation Transformations\n",
    "Validation transformations, on the other hand, are intended to provide a consistent evaluation of model performance by ensuring the input data is in a standardized format. Typically, validation transformations include:\n",
    "\n",
    "Normalization: Similar to training, normalization is applied to adjust the pixel values to have a mean of 0 and a standard deviation of 1. This ensures that the distribution of values in the validation samples is the same one used in the training samples (since the model already learned to expect that distribution of values).\n",
    "\n",
    "So, the key difference is that training transformations often include random augmentations (such as cropping and flipping) to introduce variability, whereas validation transformations are more standardized and deterministic to provide a stable basis for evaluating the model's performance"
   ]
  },
  {
   "cell_type": "code",
   "execution_count": 26,
   "metadata": {},
   "outputs": [
    {
     "ename": "NameError",
     "evalue": "name 'trainset' is not defined",
     "output_type": "error",
     "traceback": [
      "\u001b[1;31m---------------------------------------------------------------------------\u001b[0m",
      "\u001b[1;31mNameError\u001b[0m                                 Traceback (most recent call last)",
      "Cell \u001b[1;32mIn[26], line 6\u001b[0m\n\u001b[0;32m      1\u001b[0m \u001b[38;5;66;03m# TODO: find the mean value and the standard deviation of the images in the dataset\u001b[39;00m\n\u001b[0;32m      2\u001b[0m \u001b[38;5;66;03m# Note:\u001b[39;00m\n\u001b[0;32m      3\u001b[0m \u001b[38;5;66;03m# - The images are available in trainset.data\u001b[39;00m\n\u001b[0;32m      4\u001b[0m \u001b[38;5;66;03m# - Scale the images to the [0,1] range before proceeding\u001b[39;00m\n\u001b[0;32m      5\u001b[0m \u001b[38;5;66;03m# - Compute a different mean and standard deviation for each color channel\u001b[39;00m\n\u001b[1;32m----> 6\u001b[0m images_mean \u001b[38;5;241m=\u001b[39m \u001b[43mtrainset\u001b[49m\u001b[38;5;241m.\u001b[39mdata\u001b[38;5;241m.\u001b[39mmean(axis\u001b[38;5;241m=\u001b[39m(\u001b[38;5;241m0\u001b[39m,\u001b[38;5;241m1\u001b[39m,\u001b[38;5;241m2\u001b[39m)) \u001b[38;5;241m/\u001b[39m \u001b[38;5;241m255\u001b[39m\n\u001b[0;32m      7\u001b[0m images_std \u001b[38;5;241m=\u001b[39m trainset\u001b[38;5;241m.\u001b[39mdata\u001b[38;5;241m.\u001b[39mstd(axis\u001b[38;5;241m=\u001b[39m(\u001b[38;5;241m0\u001b[39m,\u001b[38;5;241m1\u001b[39m,\u001b[38;5;241m2\u001b[39m)) \u001b[38;5;241m/\u001b[39m \u001b[38;5;241m255\u001b[39m\n\u001b[0;32m      9\u001b[0m images_mean, images_std\n",
      "\u001b[1;31mNameError\u001b[0m: name 'trainset' is not defined"
     ]
    }
   ],
   "source": [
    "# TODO: find the mean value and the standard deviation of the images in the dataset\n",
    "# Note:\n",
    "# - The images are available in trainset.data\n",
    "# - Scale the images to the [0,1] range before proceeding\n",
    "# - Compute a different mean and standard deviation for each color channel\n",
    "images_mean = trainset.data.mean(axis=(0,1,2)) / 255\n",
    "images_std = trainset.data.std(axis=(0,1,2)) / 255\n",
    "\n",
    "images_mean, images_std"
   ]
  },
  {
   "cell_type": "markdown",
   "metadata": {},
   "source": [
    "To apply the transformations, we can pass the transformation objects to the transform argument of the CIFAR10 class. This way, the transformations are automatically applied when loading the data using the DataLoader.\n",
    "\n",
    "Let's see what the same image looks like after applying these transformations.\n",
    "\n",
    "Note that we are creating a different transformation, without the normalization step (& conversion to tensor), for the visualization. This occurs because the normalization step would make the image look strange, as it would change the pixel values to have a mean of 0 and a standard deviation of 1."
   ]
  },
  {
   "cell_type": "code",
   "execution_count": null,
   "metadata": {},
   "outputs": [],
   "source": [
    "viz_transform = transforms.Compose([\n",
    "    transforms.RandomHorizontalFlip(),\n",
    "    # note the padding_mode policy: this implies that the \"missing\" pixels\n",
    "    # will be reflected from the border pixels\n",
    "    # (more info in the documentation => https://pytorch.org/vision/main/generated/torchvision.transforms.RandomCrop.html)\n",
    "    transforms.RandomCrop(32, padding_mode='reflect', padding=5)\n",
    "])\n",
    "\n",
    "im = transforms.ToPILImage()(images[10])\n",
    "n_transforms = 9\n",
    "\n",
    "fig, ax = plt.subplots(3,3, figsize=(4,4))\n",
    "# TODO: Visualize the original image ,then apply different transformations to it\n",
    "# Note: each time you apply the viz_transform transformation, a random transformation will be applied to the image\n",
    "for i in range(n_transforms):\n",
    "    if i == 0: # The first image is the original one\n",
    "        ax[i//3,i%3].imshow(im)\n",
    "    else: # The rest are the transformed images\n",
    "        ax[i//3,i%3].imshow(viz_transform(im))\n",
    "    ax[i//3,i%3].axis('off')"
   ]
  },
  {
   "cell_type": "markdown",
   "metadata": {},
   "source": [
    "Extra stuff!\n",
    "\n",
    "Other transformations are already supported in PyTorch, such as:\n",
    "\n",
    "RandomRotation: Rotates the image by a random angle.\n",
    "RandomResizedCrop: Crops the image to a random size and aspect ratio, then resizes it to the specified size.\n",
    "ColorJitter: Randomly changes the brightness, contrast, saturation, and hue of an image.\n",
    "RandomAffine: Applies a random affine transformation to the image.\n",
    "RandomPerspective: Applies a random perspective transformation to the image.\n",
    "RandomErasing: Randomly selects a rectangle region in an image and erases its pixels.\n",
    "You can find out more about those transformations in the official documentation."
   ]
  },
  {
   "cell_type": "markdown",
   "metadata": {},
   "source": [
    "\n",
    "2.0 Building and Training a Simple Neural Network for CIFAR-10 Classification\n",
    "In this exercise, we extend our exploration of machine learning models by constructing a simple neural network to classify images from the CIFAR-10 dataset using PyTorch. Unlike the linear model, which is limited to learning linear relationships between features, this neural network introduces multiple layers and non-linear activation functions, allowing it to capture more complex patterns in the data.\n",
    "\n",
    "A neural network consists of interconnected layers of nodes, or neurons, where each layer applies a linear transformation to its input, followed by a non-linear activation. The architecture we will implement includes:\n",
    "\n",
    "Input Layer: Accepts the flattened input image, with each pixel value as a feature.\n",
    "Hidden Layers: Two fully connected layers that transform the input into higher-level features using linear transformations and ReLU activation functions.\n",
    "Output Layer: A final fully connected layer that maps the transformed features to the 10 output classes of the CIFAR-10 dataset."
   ]
  },
  {
   "cell_type": "code",
   "execution_count": null,
   "metadata": {},
   "outputs": [],
   "source": [
    "# Define a more complex neural network model\n",
    "class SimpleNN(nn.Module):\n",
    "    def __init__(self):\n",
    "        super(SimpleNN, self).__init__()\n",
    "        # TODO: Define the linear layers for the model\n",
    "        # Notes:\n",
    "        # - Each layer requires specifying the number of input and output features\n",
    "        # - The first layer takes as input a flattened image (32x32x3) and should produce 512 features\n",
    "        #   (i.e., it encodes the image into a 512-dimensional space)\n",
    "        # - The second layer should produce 256 features\n",
    "        # - The output layer should produce 10 features (these will be the logits)\n",
    "\n",
    "        # number of input features: 32*32*3 (image size)\n",
    "        self.fc1 = nn.Linear(32 * 32 * 3, 512)  # Input layer to first hidden layer\n",
    "        self.fc2 = nn.Linear(512, 256)  # First hidden layer to second hidden layer\n",
    "        self.fc3 = nn.Linear(256, 10)   # Second hidden layer to output layer\n",
    "\n",
    "\n",
    "    def forward(self, x):\n",
    "        # TODO: implement the forward pass\n",
    "        # Notes:\n",
    "        # - first step: flatten the input (preserve the batch size, flatten the rest)\n",
    "        # - apply the first linear layer with ReLU activation\n",
    "        # - apply the second linear layer with ReLU activation\n",
    "        # - apply the output layer (no activation needed for the output layer)\n",
    "\n",
    "        # Flatten the input\n",
    "        x = x.view(-1, 32 * 32 * 3)\n",
    "        # Apply layers with ReLU activation\n",
    "        x = torch.relu(self.fc1(x))\n",
    "        x = torch.relu(self.fc2(x))\n",
    "        x = self.fc3(x)  # Output layer (no activation needed for the output layer)\n",
    "\n",
    "        return x"
   ]
  },
  {
   "cell_type": "markdown",
   "metadata": {},
   "source": [
    "Data Transformations\n"
   ]
  },
  {
   "cell_type": "code",
   "execution_count": null,
   "metadata": {},
   "outputs": [],
   "source": [
    "# Define transformations for the training and test datasets\n",
    "transform_train = transforms.Compose([\n",
    "    transforms.RandomCrop(32, padding_mode='reflect', padding=4),\n",
    "    transforms.RandomHorizontalFlip(),\n",
    "    transforms.ToTensor(),\n",
    "    transforms.Normalize(mean=[0.485, 0.456, 0.406], std=[0.229, 0.224, 0.225]), \n",
    "])\n",
    "\n",
    "transform_test = transforms.Compose([\n",
    "    transforms.ToTensor(),\n",
    "    transforms.Normalize(mean=[0.485, 0.456, 0.406], std=[0.229, 0.224, 0.225]),\n",
    "])"
   ]
  },
  {
   "cell_type": "markdown",
   "metadata": {},
   "source": [
    "Loading the CIFAR-10 Dataset"
   ]
  },
  {
   "cell_type": "code",
   "execution_count": null,
   "metadata": {},
   "outputs": [],
   "source": [
    "# Load CIFAR-10 dataset\n",
    "batch_size = 1024\n",
    "trainset = torchvision.datasets.CIFAR10(root=dataset_dir, train=True, download=True, transform=transform_train)\n",
    "trainloader = torch.utils.data.DataLoader(trainset, batch_size=batch_size, shuffle=True)\n",
    "\n",
    "testset = torchvision.datasets.CIFAR10(root=dataset_dir, train=False, download=True, transform=transform_test)\n",
    "testloader = torch.utils.data.DataLoader(testset, batch_size=batch_size, shuffle=False)"
   ]
  },
  {
   "cell_type": "code",
   "execution_count": null,
   "metadata": {},
   "outputs": [],
   "source": [
    "# Initialize the model, loss function, and optimizer\n",
    "model = SimpleNN()\n",
    "model = model.to(device)\n",
    "criterion = nn.CrossEntropyLoss()\n",
    "optimizer = optim.SGD(model.parameters(), lr=0.01, momentum=0.9)"
   ]
  },
  {
   "cell_type": "code",
   "execution_count": null,
   "metadata": {},
   "outputs": [],
   "source": [
    "def val_model(model, testloader):\n",
    "    model.eval() # NOTE: required to set the model to evaluation mode (some layers may behave differently during training and evaluation)\n",
    "    correct = 0\n",
    "    total = 0\n",
    "    with torch.no_grad(): # NOTE: we disable gradient tracking for validation, to save memory!\n",
    "        for inputs, labels in testloader:\n",
    "            inputs, labels = inputs.to(device), labels.to(device)\n",
    "            outputs = model(inputs)\n",
    "            _, predicted = torch.max(outputs.data, 1)\n",
    "            total += labels.size(0)\n",
    "            correct += (predicted == labels).sum().item()\n",
    "\n",
    "    print(f\"Accuracy of the network on the test images: {100 * correct / total:.2f}%\")"
   ]
  },
  {
   "cell_type": "code",
   "execution_count": null,
   "metadata": {},
   "outputs": [],
   "source": [
    "val_model(model, testloader)"
   ]
  },
  {
   "cell_type": "code",
   "execution_count": null,
   "metadata": {},
   "outputs": [],
   "source": [
    "# Training loop\n",
    "num_epochs = 5\n",
    "\n",
    "losses = []\n",
    "\n",
    "model.train()\n",
    "for epoch in range(num_epochs):\n",
    "    running_loss = 0.0\n",
    "    for inputs, labels in trainloader:\n",
    "        inputs, labels = inputs.to(device), labels.to(device)\n",
    "\n",
    "        # TODO: let's implement the training loop for the model\n",
    "        # Notes:\n",
    "        # - First, zero the parameter gradients\n",
    "        # - Next, get the model's predictions\n",
    "        # - Compute the loss\n",
    "        # - Perform backpropagation (i.e. compute all gradients)\n",
    "        # - Finally, update the model's parameters\n",
    "\n",
    "        # Zero the parameter gradients\n",
    "        optimizer.zero_grad()\n",
    "\n",
    "        # Forward pass\n",
    "        outputs = model(inputs)\n",
    "        loss = criterion(outputs, labels)\n",
    "\n",
    "        # Backward pass and optimization\n",
    "        loss.backward()\n",
    "        optimizer.step()\n",
    "\n",
    "\n",
    "        losses.append(loss.item())\n",
    "\n",
    "        running_loss += loss.item()\n",
    "\n",
    "    print(f\"Epoch [{epoch+1}/{num_epochs}], Loss: {running_loss/len(trainloader):.4f}\")"
   ]
  },
  {
   "cell_type": "markdown",
   "metadata": {},
   "source": [
    "Extra stuff!\n",
    "\n",
    "Now the model has a bunch more weights and biases (parameters) to learn. Unlike before, we don't know exactly what the \"right\" values should be. Pick a few random parameters from the various layers and keep track of how their values change over time!\n",
    "\n",
    "(Note: make sure to extract the values from the tensors using the .item() method, as shown in the previous example, otherwise the computation graph will keep track of the values and you will run out of memory!)\n",
    "\n",
    "Let's check the model's performance on the validation set.\n",
    "\n"
   ]
  },
  {
   "cell_type": "code",
   "execution_count": null,
   "metadata": {},
   "outputs": [],
   "source": [
    "val_model(model, testloader)"
   ]
  },
  {
   "cell_type": "code",
   "execution_count": null,
   "metadata": {},
   "outputs": [],
   "source": [
    "fig, ax = plt.subplots()\n",
    "\n",
    "ax.plot(losses)\n",
    "ax.set_xlabel(\"Steps\")\n",
    "ax.set_ylabel(\"Loss\")"
   ]
  },
  {
   "cell_type": "markdown",
   "metadata": {},
   "source": [
    "Extra stuff!\n",
    "\n",
    "While this model performs better than random guess (~10% accuracy), it still far from perfect. Compute the confusion matrix on the validation set. Which classes does the model classify better? Which classes does it struggle with? Which classes are most often confused with each other?"
   ]
  },
  {
   "cell_type": "markdown",
   "metadata": {},
   "source": [
    "Load and Train a Model on CIFAR-10"
   ]
  },
  {
   "cell_type": "code",
   "execution_count": null,
   "metadata": {},
   "outputs": [],
   "source": [
    "# Load the CIFAR-10 dataset\n",
    "trainset = torchvision.datasets.CIFAR10(root=dataset_dir, train=True, download=True, transform=transform_train)\n",
    "trainloader = torch.utils.data.DataLoader(trainset, batch_size=512, shuffle=True)\n",
    "\n",
    "testset = torchvision.datasets.CIFAR10(root=dataset_dir, train=False, download=True, transform=transform_test)\n",
    "testloader = torch.utils.data.DataLoader(testset, batch_size=512, shuffle=False)\n",
    "\n",
    "from torchvision import models\n",
    "\n",
    "# Load a pre-trained model (ResNet18)\n",
    "model = models.resnet18(weights=None)\n",
    "model.fc = nn.Linear(model.fc.in_features, 10)  # CIFAR-10 has 10 classes\n",
    "model = model.to(device)\n",
    "\n",
    "# Define loss function and optimizer\n",
    "criterion = nn.CrossEntropyLoss()\n",
    "optimizer = optim.SGD(model.parameters(), lr=0.01, momentum=0.9, weight_decay=5e-4)\n",
    "\n",
    "# Training loop\n",
    "num_epochs = 5\n",
    "\n",
    "losses = []\n",
    "\n",
    "model.train()\n",
    "for epoch in range(num_epochs):\n",
    "    running_loss = 0.0\n",
    "    for inputs, labels in trainloader:\n",
    "        inputs, labels = inputs.to(device), labels.to(device)\n",
    "\n",
    "        # Zero the parameter gradients\n",
    "        optimizer.zero_grad()\n",
    "\n",
    "        # Forward pass\n",
    "        outputs = model(inputs)\n",
    "        loss = criterion(outputs, labels)\n",
    "\n",
    "        # Backward pass and optimization\n",
    "        loss.backward()\n",
    "        optimizer.step()\n",
    "\n",
    "        losses.append(loss.item())\n",
    "\n",
    "        running_loss += loss.item()\n",
    "\n",
    "    print(f\"Epoch [{epoch+1}/{num_epochs}], Loss: {running_loss/len(trainloader):.4f}\")"
   ]
  },
  {
   "cell_type": "code",
   "execution_count": null,
   "metadata": {},
   "outputs": [],
   "source": [
    "# Validate the model\n",
    "val_model(model, testloader)"
   ]
  },
  {
   "cell_type": "code",
   "execution_count": null,
   "metadata": {},
   "outputs": [],
   "source": [
    "fig, ax = plt.subplots()\n",
    "\n",
    "ax.plot(losses)\n",
    "ax.set_xlabel(\"Steps\")\n",
    "ax.set_ylabel(\"Loss\")"
   ]
  },
  {
   "cell_type": "markdown",
   "metadata": {},
   "source": [
    "Load and Train a Model on CIFAR-10"
   ]
  },
  {
   "cell_type": "code",
   "execution_count": null,
   "metadata": {},
   "outputs": [],
   "source": [
    "# Load the CIFAR-10 dataset\n",
    "trainset = torchvision.datasets.CIFAR10(root=dataset_dir, train=True, download=True, transform=transform_train)\n",
    "trainloader = torch.utils.data.DataLoader(trainset, batch_size=512, shuffle=True)\n",
    "\n",
    "testset = torchvision.datasets.CIFAR10(root=dataset_dir, train=False, download=True, transform=transform_test)\n",
    "testloader = torch.utils.data.DataLoader(testset, batch_size=512, shuffle=False)\n",
    "\n",
    "from torchvision import models\n",
    "\n",
    "# Load a pre-trained model (ResNet18)\n",
    "model = models.resnet18(weights=None)\n",
    "model.fc = nn.Linear(model.fc.in_features, 10)  # CIFAR-10 has 10 classes\n",
    "model = model.to(device)\n",
    "\n",
    "# Define loss function and optimizer\n",
    "criterion = nn.CrossEntropyLoss()\n",
    "optimizer = optim.SGD(model.parameters(), lr=0.01, momentum=0.9, weight_decay=5e-4)\n",
    "\n",
    "# Training loop\n",
    "num_epochs = 5\n",
    "\n",
    "losses = []\n",
    "\n",
    "model.train()\n",
    "for epoch in range(num_epochs):\n",
    "    running_loss = 0.0\n",
    "    for inputs, labels in trainloader:\n",
    "        inputs, labels = inputs.to(device), labels.to(device)\n",
    "\n",
    "        # Zero the parameter gradients\n",
    "        optimizer.zero_grad()\n",
    "\n",
    "        # Forward pass\n",
    "        outputs = model(inputs)\n",
    "        loss = criterion(outputs, labels)\n",
    "\n",
    "        # Backward pass and optimization\n",
    "        loss.backward()\n",
    "        optimizer.step()\n",
    "\n",
    "        losses.append(loss.item())\n",
    "\n",
    "        running_loss += loss.item()\n",
    "\n",
    "    print(f\"Epoch [{epoch+1}/{num_epochs}], Loss: {running_loss/len(trainloader):.4f}\")"
   ]
  },
  {
   "cell_type": "code",
   "execution_count": null,
   "metadata": {},
   "outputs": [],
   "source": [
    "# Validate the model\n",
    "val_model(model, testloader)"
   ]
  },
  {
   "cell_type": "code",
   "execution_count": null,
   "metadata": {},
   "outputs": [],
   "source": [
    "fig, ax = plt.subplots()\n",
    "\n",
    "ax.plot(losses)\n",
    "ax.set_xlabel(\"Steps\")\n",
    "ax.set_ylabel(\"Loss\")"
   ]
  },
  {
   "cell_type": "markdown",
   "metadata": {},
   "source": [
    " Load and Train a pre-trained Model on CIFAR-10"
   ]
  },
  {
   "cell_type": "code",
   "execution_count": null,
   "metadata": {},
   "outputs": [],
   "source": [
    "# TODO: Load a pre-trained model (ResNet18)\n",
    "# Notes:\n",
    "# - To load a pre-trained model, call models.resnet18 and set the weights argument to 'DEFAULT'\n",
    "# - The model has a fully connected layer at the end (called `fc`) that needs to be replaced with a new one of the appropriate size\n",
    "# - To get the number of input features for the new layer, you can access the in_features attribute of the original fc layer\n",
    "\n",
    "pretrained_model = models.resnet18(weights=\"DEFAULT\")\n",
    "pretrained_model.fc = nn.Linear(model.fc.in_features, 10)  # CIFAR-10 has 10 classes\n",
    "pretrained_model = pretrained_model.to(device) # move the model (all layers, even new ones) to the device\n",
    "\n",
    "\n",
    "criterion = nn.CrossEntropyLoss()\n",
    "optimizer = optim.SGD(pretrained_model.parameters(), lr=0.01, momentum=0.9, weight_decay=5e-4)\n",
    "\n",
    "# Training loop\n",
    "num_epochs = 5\n",
    "\n",
    "losses = []\n",
    "\n",
    "model.train()\n",
    "for epoch in range(num_epochs):\n",
    "    running_loss = 0.0\n",
    "    for inputs, labels in trainloader:\n",
    "        inputs, labels = inputs.to(device), labels.to(device)\n",
    "\n",
    "        # Zero the parameter gradients\n",
    "        optimizer.zero_grad()\n",
    "\n",
    "        # Forward pass\n",
    "        outputs = pretrained_model(inputs)\n",
    "        loss = criterion(outputs, labels)\n",
    "\n",
    "        # Backward pass and optimization\n",
    "        loss.backward()\n",
    "        optimizer.step()\n",
    "\n",
    "        losses.append(loss.item())\n",
    "\n",
    "        running_loss += loss.item()\n",
    "\n",
    "    print(f\"Epoch [{epoch+1}/{num_epochs}], Loss: {running_loss/len(trainloader):.4f}\")\n"
   ]
  },
  {
   "cell_type": "code",
   "execution_count": null,
   "metadata": {},
   "outputs": [],
   "source": [
    "val_model(pretrained_model, testloader)"
   ]
  },
  {
   "cell_type": "code",
   "execution_count": null,
   "metadata": {},
   "outputs": [],
   "source": [
    "fig, ax = plt.subplots()\n",
    "\n",
    "ax.plot(losses)\n",
    "ax.set_xlabel(\"Steps\")\n",
    "ax.set_ylabel(\"Loss\")"
   ]
  },
  {
   "cell_type": "markdown",
   "metadata": {},
   "source": [
    "Change the Classification Head of an already trained Model on CIFAR-100"
   ]
  },
  {
   "cell_type": "markdown",
   "metadata": {},
   "source": [
    "In this exercise, we will modify the classification head of a pre-trained model on CIFAR-10 to adapt it to the CIFAR-100 dataset. This process involves changing the output layer of the model to accommodate the 100 classes in CIFAR-100 instead of the 10 classes in CIFAR-10. By changing the classification head, we can repurpose the pre-trained model to perform well on a different task with minimal additional training.\n",
    "\n",
    "We do this by employing a common technique in transfer learning, known as layer freezing, to adapt a pre-trained model to a new task with minimal training time. Layer freezing involves setting the requires_grad attribute of specific model parameters to False, effectively preventing them from being updated during the backpropagation process. By freezing all layers except for the final classification head, we retain the knowledge encoded in the pre-trained layers while allowing the model to learn task-specific features through the unfrozen layers."
   ]
  },
  {
   "cell_type": "code",
   "execution_count": null,
   "metadata": {},
   "outputs": [],
   "source": [
    "# Load the CIFAR-100 dataset\n",
    "trainset_cifar100 = torchvision.datasets.CIFAR100(root=dataset_dir, train=True, download=True, transform=transform_train)\n",
    "trainloader_cifar100 = torch.utils.data.DataLoader(trainset_cifar100, batch_size=100, shuffle=True)\n",
    "\n",
    "testset_cifar100 = torchvision.datasets.CIFAR100(root=dataset_dir, train=False, download=True, transform=transform_test)\n",
    "testloader_cifar100 = torch.utils.data.DataLoader(testset_cifar100, batch_size=100, shuffle=False)"
   ]
  },
  {
   "cell_type": "code",
   "execution_count": null,
   "metadata": {},
   "outputs": [],
   "source": [
    "# Modify the classification head for CIFAR-100 (100 classes)\n",
    "\n",
    "model = pretrained_model\n",
    "model.fc = nn.Linear(model.fc.in_features, 100)\n",
    "model = model.to(device)"
   ]
  },
  {
   "cell_type": "markdown",
   "metadata": {},
   "source": [
    "In our case, we freeze all layers except for the newly modified classification head by iterating through the model's parameters and setting requires_grad = False for each. Subsequently, we explicitly enable gradient computation (requires_grad = True) for the parameters in the classification head. This approach allows us to fine-tune the output layer to classify the 100 classes in the CIFAR-100 dataset while preserving the general features learned from the CIFAR-10 dataset, ensuring that the model adapts effectively to the new task using the information already learned from the previous task."
   ]
  },
  {
   "cell_type": "code",
   "execution_count": null,
   "metadata": {},
   "outputs": [],
   "source": [
    "# Freeze all layers except the classification head\n",
    "for param in model.parameters():\n",
    "    param.requires_grad = False\n",
    "\n",
    "# TODO: Unfreeze the classification head\n",
    "for param in model.fc.parameters():\n",
    "    param.requires_grad = True\n",
    "\n",
    "optimizer = optim.SGD(model.fc.parameters(), lr=0.01, momentum=0.9, weight_decay=5e-4)\n",
    "\n",
    "num_epochs = 1\n",
    "\n",
    "losses = []\n",
    "\n",
    "model.train()\n",
    "for epoch in range(num_epochs):\n",
    "    running_loss = 0.0\n",
    "    for inputs, labels in trainloader_cifar100:\n",
    "        inputs, labels = inputs.to(device), labels.to(device)\n",
    "\n",
    "        # Zero the parameter gradients\n",
    "        optimizer.zero_grad()\n",
    "\n",
    "        # Forward pass\n",
    "        outputs = model(inputs)\n",
    "        loss = criterion(outputs, labels)\n",
    "\n",
    "        # Backward pass and optimization\n",
    "        loss.backward()\n",
    "        optimizer.step()\n",
    "\n",
    "        losses.append(loss.item())\n",
    "\n",
    "        running_loss += loss.item()\n",
    "\n",
    "    print(f\"Epoch [{epoch+1}/{num_epochs}], Loss: {running_loss/len(trainloader_cifar100):.4f}\")"
   ]
  },
  {
   "cell_type": "code",
   "execution_count": null,
   "metadata": {},
   "outputs": [],
   "source": [
    "val_model(model, testloader_cifar100)"
   ]
  },
  {
   "cell_type": "code",
   "execution_count": null,
   "metadata": {},
   "outputs": [],
   "source": [
    "fig, ax = plt.subplots()\n",
    "\n",
    "ax.plot(losses)\n",
    "ax.set_xlabel(\"Steps\")\n",
    "ax.set_ylabel(\"Loss\")"
   ]
  },
  {
   "cell_type": "markdown",
   "metadata": {},
   "source": [
    "PyTorch Computational Graph"
   ]
  },
  {
   "cell_type": "code",
   "execution_count": null,
   "metadata": {},
   "outputs": [],
   "source": [
    "import torch\n",
    "from torchviz import make_dot\n",
    "\n",
    "# Define tensors with requires_grad=True to track operations\n",
    "a = torch.tensor(2.0, requires_grad=True)\n",
    "b = torch.tensor(3.0, requires_grad=True)\n",
    "c = torch.tensor(4.0, requires_grad=True)\n",
    "\n",
    "# Define a function involving these tensors\n",
    "y = (a*b*c+c)*c + b\n",
    "\n",
    "# Visualize the computational graph\n",
    "make_dot(y, params={\"a\": a, \"b\": b, \"c\": c})"
   ]
  },
  {
   "cell_type": "code",
   "execution_count": null,
   "metadata": {},
   "outputs": [],
   "source": [
    "import torch\n",
    "from torchviz import make_dot\n",
    "\n",
    "import torch\n",
    "\n",
    "# TODO: define the tensors and compute the loss\n",
    "# Define theta1, theta2, x, and y as tensors, then compute the loss\n",
    "# Notes:\n",
    "# - set theta1 = 2.0, theta2 = 3.0, x = 1.0, y = 3.0\n",
    "# - the loss is defined as (theta1 * theta2 * x - y)^2\n",
    "# - all the tensors should be specified to require gradients\n",
    "theta1 = torch.tensor(2.0, requires_grad=True)\n",
    "theta2 = torch.tensor(3.0, requires_grad=True)\n",
    "x = torch.tensor(1.0, requires_grad=True)\n",
    "y = torch.tensor(3.0, requires_grad=True)\n",
    "\n",
    "loss = (theta1 * theta2 * x - y)**2\n",
    "\n",
    "# TODO: Visualize the computational graph\n",
    "make_dot(loss, params={\"theta1\": theta1, \"theta2\": theta2, \"x\": x, \"y\": y})"
   ]
  }
 ],
 "metadata": {
  "kernelspec": {
   "display_name": "Python 3",
   "language": "python",
   "name": "python3"
  },
  "language_info": {
   "codemirror_mode": {
    "name": "ipython",
    "version": 3
   },
   "file_extension": ".py",
   "mimetype": "text/x-python",
   "name": "python",
   "nbconvert_exporter": "python",
   "pygments_lexer": "ipython3",
   "version": "3.10.11"
  }
 },
 "nbformat": 4,
 "nbformat_minor": 2
}
