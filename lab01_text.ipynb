{
 "cells": [
  {
   "cell_type": "markdown",
   "metadata": {},
   "source": [
    "Lab 01: Introduction to Deep Learning Models, and their Training, Fine-Tuning, and Evaluation"
   ]
  },
  {
   "cell_type": "markdown",
   "metadata": {},
   "source": [
    "- basic functionality of PyTorch, focusing on key operations such as data loading, data transformations, and using GPUs for acceleration"
   ]
  },
  {
   "cell_type": "code",
   "execution_count": 20,
   "metadata": {},
   "outputs": [],
   "source": [
    "# Import necessary libraries\n",
    "import torch\n",
    "import torch.nn as nn\n",
    "import torch.optim as optim\n",
    "import torch.nn.functional as F\n",
    "from torch.utils.data import DataLoader, TensorDataset\n",
    "import matplotlib.pyplot as plt\n",
    "import torchvision\n",
    "import torchvision.transforms as transforms"
   ]
  },
  {
   "cell_type": "markdown",
   "metadata": {},
   "source": [
    "Tensors\n",
    "- Tensors in PyTorch Tensors are the primary data structure in PyTorch. They are similar to NumPy arrays but have added functionality that supports GPU acceleration and automatic differentiation (autograd)\n",
    "\n",
    "Automatic differentiation in PyTorch is a key feature for calculating gradients automatically in tensors"
   ]
  },
  {
   "cell_type": "code",
   "execution_count": 3,
   "metadata": {},
   "outputs": [
    {
     "name": "stdout",
     "output_type": "stream",
     "text": [
      "tensor([5., 7., 9.])\n",
      "the tensor shape is torch.Size([3])\n",
      "the tensor type is torch.float32\n"
     ]
    }
   ],
   "source": [
    "a = torch.tensor([ 1.0 , 2.0 , 3.0 ])\n",
    "b = torch.tensor([ 4.0 , 5.0 , 6.0 ])\n",
    "\n",
    "c = a + b     ### addition element-wise\n",
    "print(c) \n",
    "\n",
    "print(f\"the tensor shape is {c.shape}\")\n",
    "print(f\"the tensor type is {c.dtype}\")"
   ]
  },
  {
   "cell_type": "markdown",
   "metadata": {},
   "source": [
    "float32 (single precision) data type. NumPy, instead, defaults to float64 (double precision)"
   ]
  },
  {
   "cell_type": "code",
   "execution_count": 4,
   "metadata": {},
   "outputs": [
    {
     "name": "stdout",
     "output_type": "stream",
     "text": [
      "Time for matrix multiplication (float64): 1.8918s\n",
      "Time for matrix multiplication (float32): 0.9468s\n"
     ]
    }
   ],
   "source": [
    "from timeit import timeit\n",
    "\n",
    "mat_size = 1000\n",
    "\n",
    "M1_64 = torch.randn(mat_size, mat_size, dtype=torch.float64)   ### here we have a tensor of double precision float64\n",
    "M2_64 = torch.randn(mat_size, mat_size, dtype=torch.float64)\n",
    "\n",
    "M1_32 = torch.randn(mat_size, mat_size)                        ### here we have a tensor of single precision float32\n",
    "M2_32 = torch.randn(mat_size, mat_size)\n",
    "\n",
    "t64 = timeit(lambda: M1_64 @ M2_64, number=100)                # we use the lambda function tu compute 100 times matrices product      \n",
    "t32 = timeit(lambda: M1_32 @ M2_32, number=100)\n",
    "\n",
    "print(f\"Time for matrix multiplication (float64): {t64:.4f}s\")\n",
    "print(f\"Time for matrix multiplication (float32): {t32:.4f}s\")"
   ]
  },
  {
   "cell_type": "markdown",
   "metadata": {},
   "source": [
    "if is strictly needed you can change the type of array "
   ]
  },
  {
   "cell_type": "code",
   "execution_count": 6,
   "metadata": {},
   "outputs": [
    {
     "name": "stdout",
     "output_type": "stream",
     "text": [
      "<class 'torch.Tensor'>\n"
     ]
    }
   ],
   "source": [
    "c = c.to(torch.float64) # or,\n",
    "print(type(c)) \n",
    "c = c.double()"
   ]
  },
  {
   "cell_type": "markdown",
   "metadata": {},
   "source": [
    "Exercise 1: A simple neural network\n",
    "\n",
    "-univariate linear model is one of the most basic forms of machine learning models and is defined by the equation y = wx + b\n",
    "\n",
    "Model Definition: SimpleLinearModel\n",
    "The SimpleLinearModel class is a subclass of nn.Module, which is the base class for all neural network modules in PyTorch"
   ]
  },
  {
   "cell_type": "markdown",
   "metadata": {},
   "source": [
    "The SimpleLinearModel class is structured as follows:\n",
    "\n",
    "__init__(self, input_size, output_size):\n",
    "\n",
    "This is the constructor method where the linear layer is defined. The input_size and output_size parameters specify the dimensions of the input and output features, respectively. In this exercise, both the input and output sizes are set to 1, indicating a single feature input and a single prediction output.\n",
    "forward(self, x):\n",
    "\n",
    "This method defines the forward pass of the model, where the input x is passed through the linear layer. The forward pass computes the output by applying the linear transformation described above"
   ]
  },
  {
   "cell_type": "code",
   "execution_count": 7,
   "metadata": {},
   "outputs": [],
   "source": [
    "# Define a simple linear model\n",
    "class SimpleLinearModel(nn.Module):\n",
    "    def __init__(self, input_size, output_size):\n",
    "        super(SimpleLinearModel, self).__init__()\n",
    "        self.linear = nn.Linear(input_size, output_size)\n",
    "    \n",
    "    def forward(self, x):\n",
    "        return self.linear(x)"
   ]
  },
  {
   "cell_type": "code",
   "execution_count": 9,
   "metadata": {},
   "outputs": [
    {
     "name": "stdout",
     "output_type": "stream",
     "text": [
      "SimpleLinearModel(\n",
      "  (linear): Linear(in_features=1, out_features=1, bias=True)\n",
      ")\n"
     ]
    }
   ],
   "source": [
    "# Initialize the model, loss function, and optimizer\n",
    "model = SimpleLinearModel(1, 1)\n",
    "print(model)"
   ]
  },
  {
   "cell_type": "markdown",
   "metadata": {},
   "source": [
    "Using torch.device for GPU Acceleration"
   ]
  },
  {
   "cell_type": "code",
   "execution_count": 10,
   "metadata": {},
   "outputs": [
    {
     "name": "stdout",
     "output_type": "stream",
     "text": [
      "The device is set to: cpu\n"
     ]
    }
   ],
   "source": [
    "device = torch.device(\"cuda\" if torch.cuda.is_available() else \"cpu\")\n",
    "\n",
    "print(f\"The device is set to: {device}\")"
   ]
  },
  {
   "cell_type": "markdown",
   "metadata": {},
   "source": [
    "Finally, note that these tensors have the requires_grad attribute set to True. This attribute is used by PyTorch to determine which tensors should have their gradients computed during the backward pass (i.e., which tensors are learnable parameters). This is used by PyTorch to keep track of the computational graph."
   ]
  },
  {
   "cell_type": "code",
   "execution_count": 11,
   "metadata": {},
   "outputs": [
    {
     "name": "stdout",
     "output_type": "stream",
     "text": [
      "Weight Parameter containing:\n",
      "tensor([[-0.2717]], requires_grad=True)\n",
      "Bias Parameter containing:\n",
      "tensor([-0.3678], requires_grad=True)\n"
     ]
    }
   ],
   "source": [
    "print(\"Weight\", model.linear.weight)\n",
    "print(\"Bias\", model.linear.bias)"
   ]
  },
  {
   "cell_type": "markdown",
   "metadata": {},
   "source": [
    "Criterion and Optimizer\n",
    "\n",
    "-The criterion, also known as the loss function, is a measure of how well the model's predictions match the actual target values. During training, the loss function evaluates the difference between the predicted outputs and the true labels, quantifying the error of the model. The goal of training is to minimize this error, thereby improving the model's accuracy.\n",
    "\n",
    "-Cross Entropy: Used for multi-class classification problems, like our CIFAR-10 and CIFAR-100 tasks. We typically use PyTorch's CrossEntropyLoss, which takes as input the predicted logits (not the probabilities, so unnormalized probabilities that have not been passed through a softmax) is applied) and the ground truths. Alternatively, we could combine LogSoftmax and NLLLoss (Negative Log Likelihood Loss) together, or applying the softmax ourselves and then using a Negative Log Likelihood function. However, for numerical reasons, we generally prefer using the CrossEntropyLoss class directly.\n",
    "\n",
    "-Mean Squared Error (MSE): Typically used for regression tasks, where the model predicts continuous values."
   ]
  },
  {
   "cell_type": "markdown",
   "metadata": {},
   "source": [
    "Optimizer\n",
    "The optimizer is an algorithm or method used to adjust the model's weights to minimize the loss function. It updates the model parameters (weights and biases) based on the gradients computed during backpropagation. The optimizer aims to find the optimal set of parameters that reduce the loss, improving the model’s performance on the training data.\n",
    "\n",
    "Some common optimizers include:\n",
    "\n",
    "-Stochastic Gradient Descent (SGD): A basic optimizer that updates the model parameters using a small, randomly selected subset of data (mini-batch) instead of the entire dataset. It’s useful for handling large datasets and reducing computational cost.\n",
    "\n",
    "-Adam: A more advanced optimizer that combines the benefits of two other extensions of SGD, Adaptive Gradient Algorithm (AdaGrad) and Root Mean Square Propagation (RMSProp). It adjusts the learning rate for each parameter dynamically, making it well-suited for complex tasks with sparse gradients."
   ]
  },
  {
   "cell_type": "code",
   "execution_count": 15,
   "metadata": {},
   "outputs": [],
   "source": [
    "# Create a dataset (for simplicity, we use a small synthetic dataset)\n",
    "# X is the input features, y is the target labels\n",
    "\n",
    "n_pts = 2048\n",
    "# TODO: Generate a random dataset containing n_pts samples\n",
    "# Notes:\n",
    "# - The input features X should be a tensor of shape (n_pts, 1)\n",
    "# - you can generate the X's randomly (e.g. using torch.rand to sample uniformly from [0,1], or torch.randn to sample from a normal distribution)\n",
    "# - The target labels y should be a linear function of X with some noise added, y = w*x + b + gaussian noise\n",
    "\n",
    "# In this solution we are using normally distributed inputs. It is \n",
    "# well-known that 0-centered inputs help speed up the learning process.\n",
    "# You can try using uniformly distributed inputs, or adding an offset to\n",
    "# all points and see the difference in learning speed (weight/bias\n",
    "# plots shown afterwards)\n",
    "X = torch.randn(n_pts, 1)\n",
    "y = 5 * X + 3 + 0.1 * torch.randn(n_pts, 1) # adding gaussian noise\n",
    "\n",
    "# Create DataLoader\n",
    "dataset = TensorDataset(X, y)\n",
    "trainloader = DataLoader(dataset, batch_size=256, shuffle=True)"
   ]
  },
  {
   "cell_type": "code",
   "execution_count": 16,
   "metadata": {},
   "outputs": [],
   "source": [
    "criterion = nn.MSELoss()\n",
    "optimizer = optim.SGD(model.parameters(), lr=0.01)"
   ]
  },
  {
   "cell_type": "markdown",
   "metadata": {},
   "source": [
    "Training Loop \n"
   ]
  },
  {
   "cell_type": "code",
   "execution_count": 17,
   "metadata": {},
   "outputs": [
    {
     "name": "stdout",
     "output_type": "stream",
     "text": [
      "Epoch [1/50], Loss: 36.7363\n",
      "Epoch [2/50], Loss: 25.8294\n",
      "Epoch [3/50], Loss: 18.1630\n",
      "Epoch [4/50], Loss: 12.7764\n",
      "Epoch [5/50], Loss: 8.9873\n",
      "Epoch [6/50], Loss: 6.3233\n",
      "Epoch [7/50], Loss: 4.4506\n",
      "Epoch [8/50], Loss: 3.1339\n",
      "Epoch [9/50], Loss: 2.2077\n",
      "Epoch [10/50], Loss: 1.5564\n",
      "Epoch [11/50], Loss: 1.0983\n",
      "Epoch [12/50], Loss: 0.7757\n",
      "Epoch [13/50], Loss: 0.5490\n",
      "Epoch [14/50], Loss: 0.3895\n",
      "Epoch [15/50], Loss: 0.2772\n",
      "Epoch [16/50], Loss: 0.1982\n",
      "Epoch [17/50], Loss: 0.1426\n",
      "Epoch [18/50], Loss: 0.1035\n",
      "Epoch [19/50], Loss: 0.0759\n",
      "Epoch [20/50], Loss: 0.0565\n",
      "Epoch [21/50], Loss: 0.0428\n",
      "Epoch [22/50], Loss: 0.0332\n",
      "Epoch [23/50], Loss: 0.0264\n",
      "Epoch [24/50], Loss: 0.0217\n",
      "Epoch [25/50], Loss: 0.0183\n",
      "Epoch [26/50], Loss: 0.0159\n",
      "Epoch [27/50], Loss: 0.0143\n",
      "Epoch [28/50], Loss: 0.0131\n",
      "Epoch [29/50], Loss: 0.0123\n",
      "Epoch [30/50], Loss: 0.0117\n",
      "Epoch [31/50], Loss: 0.0113\n",
      "Epoch [32/50], Loss: 0.0110\n",
      "Epoch [33/50], Loss: 0.0108\n",
      "Epoch [34/50], Loss: 0.0106\n",
      "Epoch [35/50], Loss: 0.0105\n",
      "Epoch [36/50], Loss: 0.0105\n",
      "Epoch [37/50], Loss: 0.0104\n",
      "Epoch [38/50], Loss: 0.0104\n",
      "Epoch [39/50], Loss: 0.0103\n",
      "Epoch [40/50], Loss: 0.0103\n",
      "Epoch [41/50], Loss: 0.0103\n",
      "Epoch [42/50], Loss: 0.0103\n",
      "Epoch [43/50], Loss: 0.0103\n",
      "Epoch [44/50], Loss: 0.0103\n",
      "Epoch [45/50], Loss: 0.0103\n",
      "Epoch [46/50], Loss: 0.0103\n",
      "Epoch [47/50], Loss: 0.0103\n",
      "Epoch [48/50], Loss: 0.0103\n",
      "Epoch [49/50], Loss: 0.0103\n",
      "Epoch [50/50], Loss: 0.0103\n"
     ]
    }
   ],
   "source": [
    "# Training loop\n",
    "num_epochs = 50\n",
    "\n",
    "# TODO: keep track of the loss computed at each step, \n",
    "# the current value for the weight of the linear layer,\n",
    "# and the current bias value for the linear layer.\n",
    "# Note: store the values in the lists losses, weights, biases\n",
    "losses = []\n",
    "weights = []\n",
    "biases = []\n",
    "\n",
    "model.train()\n",
    "for epoch in range(num_epochs):\n",
    "    running_loss = 0.0\n",
    "    for inputs, labels in trainloader:\n",
    "        inputs, labels = inputs.to(device), labels.to(device)\n",
    "\n",
    "        # Zero the parameter gradients\n",
    "        optimizer.zero_grad()\n",
    "\n",
    "        # Forward pass\n",
    "        outputs = model(inputs)\n",
    "        loss = criterion(outputs, labels)\n",
    "\n",
    "        # Backward pass and optimization\n",
    "        loss.backward()\n",
    "        optimizer.step()\n",
    "\n",
    "        # Save the loss, weight, and bias\n",
    "        losses.append(loss.item())\n",
    "        weights.append(model.linear.weight.item())\n",
    "        biases.append(model.linear.bias.item())\n",
    "\n",
    "        running_loss += loss.item()\n",
    "\n",
    "    print(f\"Epoch [{epoch+1}/{num_epochs}], Loss: {running_loss/len(trainloader):.4f}\")"
   ]
  },
  {
   "cell_type": "code",
   "execution_count": 21,
   "metadata": {},
   "outputs": [
    {
     "data": {
      "image/png": "[encoded data removed]",
      "text/plain": [
       "<Figure size 1500x300 with 3 Axes>"
      ]
     },
     "metadata": {},
     "output_type": "display_data"
    }
   ],
   "source": [
    "fig, ax = plt.subplots(1, 3, figsize=(15, 3))\n",
    "\n",
    "ax[0].plot(losses)\n",
    "ax[0].set_title(\"Loss\")\n",
    "ax[0].set_xlabel(\"Steps\")\n",
    "ax[0].set_ylabel(\"Loss\")\n",
    "ax[0].grid()\n",
    "\n",
    "ax[1].plot(weights)\n",
    "ax[1].set_title(\"Weight\")\n",
    "ax[1].set_xlabel(\"Steps\")\n",
    "ax[1].set_ylabel(\"Weight\")\n",
    "ax[1].grid()\n",
    "\n",
    "ax[2].plot(biases)\n",
    "ax[2].set_title(\"Bias\")\n",
    "ax[2].set_xlabel(\"Steps\")\n",
    "ax[2].set_ylabel(\"Bias\")\n",
    "ax[2].grid()"
   ]
  },
  {
   "cell_type": "code",
   "execution_count": 24,
   "metadata": {},
   "outputs": [
    {
     "name": "stdout",
     "output_type": "stream",
     "text": [
      "Learned weights: tensor([[5.0002]])\n",
      "Learned biases: tensor([3.0019])\n"
     ]
    }
   ],
   "source": [
    "# Inspecting the learned weights and biases\n",
    "weights = model.linear.weight.data\n",
    "biases = model.linear.bias.data\n",
    "\n",
    "print(f'Learned weights: {weights}')\n",
    "print(f'Learned biases: {biases}')"
   ]
  },
  {
   "cell_type": "markdown",
   "metadata": {},
   "source": [
    "Exercise 2: First Model Training"
   ]
  },
  {
   "cell_type": "markdown",
   "metadata": {},
   "source": [
    "you will explore the concept of transfer learning by training a model on the CIFAR-10 dataset and then adapting it to a different dataset, CIFAR-100\n",
    "\n",
    "This approach is especially useful in fields like Natural Language Processing (NLP), where training a model from scratch requires immense computational resources and vast amounts of data. Instead, pre-trained models are often used as backbones, and only the final classification head is fine-tuned for specific tasks."
   ]
  },
  {
   "cell_type": "markdown",
   "metadata": {},
   "source": [
    "The CIFAR-10 and CIFAR-100 datasets are both standard datasets in computer vision. They contain 32x32 color images, but while CIFAR-10 has 10 classes, CIFAR-100 has 100 classes, making it a more challenging task.\n",
    "\n",
    "In this exercise, you will:\n",
    "\n",
    "Train a model from scratch on CIFAR-10 and evaluate its performance.\n",
    "\n",
    "Compare the performance on CIFAR-10 of two models:\n",
    "\n",
    "-The model trained from scratch from point 1.\n",
    "\n",
    "-A model pre-trained on ImageNet (another dataset of images) and then fine-tuned on CIFAR-10.\n",
    "\n",
    "-Modify the classification head to adapt the model for CIFAR-100."
   ]
  },
  {
   "cell_type": "markdown",
   "metadata": {},
   "source": [
    "Loading the CIFAR-10 Dataset and Creating a DataLoader"
   ]
  },
  {
   "cell_type": "markdown",
   "metadata": {},
   "source": [
    "We apply a simple transformation to the images, which start out as PIL images (PIL is a famous Python libraries that handles images), \n",
    "to convert them into PyTorch tensors. We do this using the transforms.ToTensor() transformation."
   ]
  },
  {
   "cell_type": "code",
   "execution_count": null,
   "metadata": {},
   "outputs": [],
   "source": [
    "dataset_dir = \"~/data\" # Change this to the directory where you want to download the dataset\n",
    "# Download CIFAR-10 dataset and apply the transformations\n",
    "trainset = torchvision.datasets.CIFAR10(\n",
    "    root=dataset_dir, train=True, download=True, transform=transforms.ToTensor()\n",
    ")\n",
    "\n",
    "# Create a DataLoader\n",
    "trainloader = torch.utils.data.DataLoader(\n",
    "    trainset, batch_size=64, shuffle=True, num_workers=2\n",
    ")\n",
    "\n",
    "# Get a batch of data to verify that everything is working\n",
    "# dataiter = iter(trainloader)\n",
    "images, labels = next(iter(trainloader)) #dataiter.next()\n",
    "\n",
    "print(f\"Batch of images shape: {images.shape}\")\n",
    "print(f\"Batch of labels shape: {labels.shape}\")\n",
    "print(f\"Possible classes: {', '.join(trainset.classes)}\")"
   ]
  },
  {
   "cell_type": "code",
   "execution_count": null,
   "metadata": {},
   "outputs": [],
   "source": [
    "import matplotlib.pyplot as plt\n",
    "\n",
    "fig, ax = plt.subplots(8,8, figsize=(8,8))\n",
    "plt.rcParams.update({'axes.titlesize': 'small'})\n",
    "plt.tight_layout()\n",
    "# remove vertical space\n",
    "plt.subplots_adjust(hspace=0.25, wspace=0.1)\n",
    "\n",
    "for i in range(8):\n",
    "    for j in range(8):\n",
    "        # note that we need to change the order of the dimensions.\n",
    "        # Torch prepare the images to be (C, H, W),\n",
    "        # But matplotlib expects (H, W, C)\n",
    "        # (H = height of the image, W = width of the image, C = number of color channels)\n",
    "        ax[i,j].imshow(images[i*8 + j].permute(1,2,0))\n",
    "        ax[i,j].set_title(trainset.classes[labels[i*8 + j]])\n",
    "        ax[i,j].axis('off')"
   ]
  },
  {
   "cell_type": "markdown",
   "metadata": {},
   "source": [
    "Data Transformations\n",
    "\n",
    "Transformations involve modifying the inputs (e.g., images) in the dataset to make the model more robust to variations in input data and prevent overfitting\n",
    "\n",
    "It's important to note that the transformations applied to the training data differ from those applied to the validation data\n",
    "\n",
    "Training Transformations\n",
    "\n",
    "Training transformations are designed to augment the dataset, effectively increasing the diversity of the input images seen by the model during training. This helps improve the model's ability to generalize to unseen data. Common training transformations include:\n",
    "\n",
    "Random Crop: Randomly crops a given portion of an image. This helps the model become invariant to the position of objects within the image.\n",
    "\n",
    "Random Horizontal Flip: Randomly flips an image horizontally. This technique ensures that the model learns features regardless of the orientation of objects.\n",
    "\n",
    "Normalization: Adjusts the pixel values to have a mean of 0 and a standard deviation of 1. Normalization helps speed up training and can lead to better model performance.\n",
    "\n",
    "\n"
   ]
  },
  {
   "cell_type": "markdown",
   "metadata": {},
   "source": [
    "Validation Transformations\n",
    "Validation transformations, on the other hand, are intended to provide a consistent evaluation of model performance by ensuring the input data is in a standardized format. Typically, validation transformations include:\n",
    "\n",
    "Normalization: Similar to training, normalization is applied to adjust the pixel values to have a mean of 0 and a standard deviation of 1. This ensures that the distribution of values in the validation samples is the same one used in the training samples (since the model already learned to expect that distribution of values).\n",
    "\n",
    "So, the key difference is that training transformations often include random augmentations (such as cropping and flipping) to introduce variability, whereas validation transformations are more standardized and deterministic to provide a stable basis for evaluating the model's performance"
   ]
  },
  {
   "cell_type": "code",
   "execution_count": null,
   "metadata": {},
   "outputs": [],
   "source": []
  },
  {
   "cell_type": "code",
   "execution_count": null,
   "metadata": {},
   "outputs": [],
   "source": []
  },
  {
   "cell_type": "code",
   "execution_count": null,
   "metadata": {},
   "outputs": [],
   "source": []
  },
  {
   "cell_type": "code",
   "execution_count": null,
   "metadata": {},
   "outputs": [],
   "source": []
  },
  {
   "cell_type": "code",
   "execution_count": null,
   "metadata": {},
   "outputs": [],
   "source": []
  }
 ],
 "metadata": {
  "kernelspec": {
   "display_name": "Python 3",
   "language": "python",
   "name": "python3"
  },
  "language_info": {
   "codemirror_mode": {
    "name": "ipython",
    "version": 3
   },
   "file_extension": ".py",
   "mimetype": "text/x-python",
   "name": "python",
   "nbconvert_exporter": "python",
   "pygments_lexer": "ipython3",
   "version": "3.10.11"
  }
 },
 "nbformat": 4,
 "nbformat_minor": 2
}
